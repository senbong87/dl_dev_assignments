{
 "cells": [
  {
   "cell_type": "code",
   "execution_count": 1,
   "metadata": {},
   "outputs": [
    {
     "name": "stderr",
     "output_type": "stream",
     "text": [
      "Using TensorFlow backend.\n"
     ]
    }
   ],
   "source": [
    "import re\n",
    "\n",
    "import numpy as np\n",
    "import pandas as pd\n",
    "from keras.preprocessing.text import Tokenizer\n",
    "from keras.preprocessing.sequence import pad_sequences\n",
    "from keras.models import Sequential\n",
    "from keras.layers import InputLayer, Dense, Embedding, LSTM, SpatialDropout1D\n",
    "from keras.callbacks import EarlyStopping, LearningRateScheduler\n",
    "from sklearn.model_selection import train_test_split"
   ]
  },
  {
   "cell_type": "code",
   "execution_count": 2,
   "metadata": {
    "collapsed": true
   },
   "outputs": [],
   "source": [
    "# load dataset\n",
    "train_df = pd.read_csv(\"data/train.csv\")\n",
    "\n",
    "# define parameters\n",
    "max_features = 5000\n",
    "tokenizer = Tokenizer(num_words=max_features, split=' ')\n",
    "tokenizer.fit_on_texts(train_df[\"text\"].values)\n",
    "X = tokenizer.texts_to_sequences(train_df[\"text\"].values)\n",
    "X = pad_sequences(X)"
   ]
  },
  {
   "cell_type": "code",
   "execution_count": 3,
   "metadata": {},
   "outputs": [
    {
     "name": "stdout",
     "output_type": "stream",
     "text": [
      "_________________________________________________________________\n",
      "Layer (type)                 Output Shape              Param #   \n",
      "=================================================================\n",
      "embedding_1 (Embedding)      (None, 803, 256)          1280000   \n",
      "_________________________________________________________________\n",
      "spatial_dropout1d_1 (Spatial (None, 803, 256)          0         \n",
      "_________________________________________________________________\n",
      "lstm_1 (LSTM)                (None, 196)               355152    \n",
      "_________________________________________________________________\n",
      "dense_1 (Dense)              (None, 3)                 591       \n",
      "=================================================================\n",
      "Total params: 1,635,743\n",
      "Trainable params: 1,635,743\n",
      "Non-trainable params: 0\n",
      "_________________________________________________________________\n",
      "None\n"
     ]
    }
   ],
   "source": [
    "# compose LSTM network\n",
    "num_class = 3\n",
    "embed_dim = 256\n",
    "lstm_out = 196\n",
    "\n",
    "model = Sequential()\n",
    "model.add(Embedding(max_features, embed_dim, input_length=X.shape[1]))\n",
    "model.add(SpatialDropout1D(rate=0.2))\n",
    "model.add(LSTM(lstm_out, dropout=0.2, recurrent_dropout=0.2))\n",
    "model.add(Dense(num_class, activation=\"softmax\"))\n",
    "model.compile(loss=\"categorical_crossentropy\", optimizer=\"adam\", metrics=[\"accuracy\"])\n",
    "print(model.summary())"
   ]
  },
  {
   "cell_type": "code",
   "execution_count": 4,
   "metadata": {},
   "outputs": [
    {
     "name": "stdout",
     "output_type": "stream",
     "text": [
      "((15663, 803), (15663, 3))\n",
      "((3916, 803), (3916, 3))\n"
     ]
    }
   ],
   "source": [
    "Y = pd.get_dummies(train_df[\"author\"]).values\n",
    "X_train, X_test, Y_train, Y_test = train_test_split(X,Y, test_size = 0.2, random_state = 42)\n",
    "print(X_train.shape, Y_train.shape)\n",
    "print(X_test.shape, Y_test.shape)"
   ]
  },
  {
   "cell_type": "code",
   "execution_count": 5,
   "metadata": {},
   "outputs": [
    {
     "name": "stdout",
     "output_type": "stream",
     "text": [
      "Train on 15663 samples, validate on 3916 samples\n",
      "Epoch 1/5\n",
      "15663/15663 [==============================] - 218s - loss: 0.8035 - acc: 0.6319 - val_loss: 0.5126 - val_acc: 0.7990\n",
      "Epoch 2/5\n",
      "15663/15663 [==============================] - 216s - loss: 0.4083 - acc: 0.8380 - val_loss: 0.4659 - val_acc: 0.8174\n",
      "Epoch 3/5\n",
      "15663/15663 [==============================] - 217s - loss: 0.3085 - acc: 0.8844 - val_loss: 0.4984 - val_acc: 0.8136\n",
      "Epoch 4/5\n",
      "15663/15663 [==============================] - 210s - loss: 0.2455 - acc: 0.9080 - val_loss: 0.5507 - val_acc: 0.8080\n",
      "Epoch 5/5\n",
      "15663/15663 [==============================] - 202s - loss: 0.2163 - acc: 0.9190 - val_loss: 0.5727 - val_acc: 0.8046\n"
     ]
    },
    {
     "data": {
      "text/plain": [
       "<keras.callbacks.History at 0x7f145fb8a750>"
      ]
     },
     "execution_count": 5,
     "metadata": {},
     "output_type": "execute_result"
    }
   ],
   "source": [
    "BATCH_SIZE = 128\n",
    "LR = 0.001\n",
    "DC = 0.1\n",
    "EPOCH = 5\n",
    "\n",
    "callbacks = [EarlyStopping(monitor=\"loss\", min_delta=0.001, patience=3),\n",
    "             LearningRateScheduler(lambda epoch: LR/(1 + DC*epoch))]\n",
    "model.fit(X_train, Y_train, epochs=EPOCH, batch_size=BATCH_SIZE,\n",
    "          validation_data=(X_test, Y_test),\n",
    "          callbacks=callbacks)"
   ]
  }
 ],
 "metadata": {
  "kernelspec": {
   "display_name": "Python 2",
   "language": "python",
   "name": "python2"
  },
  "language_info": {
   "codemirror_mode": {
    "name": "ipython",
    "version": 2
   },
   "file_extension": ".py",
   "mimetype": "text/x-python",
   "name": "python",
   "nbconvert_exporter": "python",
   "pygments_lexer": "ipython2",
   "version": "2.7.12"
  }
 },
 "nbformat": 4,
 "nbformat_minor": 2
}
