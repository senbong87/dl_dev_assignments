{
 "cells": [
  {
   "cell_type": "code",
   "execution_count": 1,
   "metadata": {},
   "outputs": [
    {
     "name": "stderr",
     "output_type": "stream",
     "text": [
      "Using TensorFlow backend.\n"
     ]
    }
   ],
   "source": [
    "import re\n",
    "\n",
    "import numpy as np\n",
    "import pandas as pd\n",
    "from keras.preprocessing.text import Tokenizer\n",
    "from keras.preprocessing.sequence import pad_sequences\n",
    "from keras.models import Sequential\n",
    "from keras.layers import InputLayer, Dense, Embedding, LSTM, SpatialDropout1D\n",
    "from keras.callbacks import EarlyStopping, LearningRateScheduler\n",
    "from sklearn.model_selection import train_test_split"
   ]
  },
  {
   "cell_type": "code",
   "execution_count": 2,
   "metadata": {
    "collapsed": true
   },
   "outputs": [],
   "source": [
    "# load dataset\n",
    "train_df = pd.read_csv(\"data/train.csv\")\n",
    "\n",
    "# define parameters\n",
    "max_features = 2000\n",
    "tokenizer = Tokenizer(num_words=max_features, split=' ')\n",
    "tokenizer.fit_on_texts(train_df[\"text\"].values)\n",
    "X = tokenizer.texts_to_sequences(train_df[\"text\"].values)\n",
    "X = pad_sequences(X)"
   ]
  },
  {
   "cell_type": "code",
   "execution_count": 3,
   "metadata": {},
   "outputs": [
    {
     "name": "stdout",
     "output_type": "stream",
     "text": [
      "_________________________________________________________________\n",
      "Layer (type)                 Output Shape              Param #   \n",
      "=================================================================\n",
      "embedding_1 (Embedding)      (None, 746, 128)          256000    \n",
      "_________________________________________________________________\n",
      "spatial_dropout1d_1 (Spatial (None, 746, 128)          0         \n",
      "_________________________________________________________________\n",
      "lstm_1 (LSTM)                (None, 196)               254800    \n",
      "_________________________________________________________________\n",
      "dense_1 (Dense)              (None, 3)                 591       \n",
      "=================================================================\n",
      "Total params: 511,391\n",
      "Trainable params: 511,391\n",
      "Non-trainable params: 0\n",
      "_________________________________________________________________\n",
      "None\n"
     ]
    }
   ],
   "source": [
    "# compose LSTM network\n",
    "num_class = 3\n",
    "embed_dim = 128\n",
    "lstm_out = 196\n",
    "\n",
    "model = Sequential()\n",
    "model.add(Embedding(max_features, embed_dim, input_length=X.shape[1]))\n",
    "model.add(SpatialDropout1D(rate=0.2))\n",
    "model.add(LSTM(lstm_out, dropout=0.2, recurrent_dropout=0.2))\n",
    "model.add(Dense(num_class, activation=\"softmax\"))\n",
    "model.compile(loss=\"categorical_crossentropy\", optimizer=\"adam\", metrics=[\"accuracy\"])\n",
    "print(model.summary())"
   ]
  },
  {
   "cell_type": "code",
   "execution_count": 4,
   "metadata": {},
   "outputs": [
    {
     "name": "stdout",
     "output_type": "stream",
     "text": [
      "((13117, 746), (13117, 3))\n",
      "((6462, 746), (6462, 3))\n"
     ]
    }
   ],
   "source": [
    "Y = pd.get_dummies(train_df[\"author\"]).values\n",
    "X_train, X_test, Y_train, Y_test = train_test_split(X,Y, test_size = 0.33, random_state = 42)\n",
    "print(X_train.shape, Y_train.shape)\n",
    "print(X_test.shape, Y_test.shape)"
   ]
  },
  {
   "cell_type": "code",
   "execution_count": 5,
   "metadata": {},
   "outputs": [
    {
     "name": "stdout",
     "output_type": "stream",
     "text": [
      "Train on 13117 samples, validate on 6462 samples\n",
      "Epoch 1/20\n",
      "13117/13117 [==============================] - 154s - loss: 0.9094 - acc: 0.5700 - val_loss: 0.6642 - val_acc: 0.7262\n",
      "Epoch 2/20\n",
      "13117/13117 [==============================] - 155s - loss: 0.5704 - acc: 0.7685 - val_loss: 0.5618 - val_acc: 0.7652\n",
      "Epoch 3/20\n",
      "13117/13117 [==============================] - 145s - loss: 0.4737 - acc: 0.8107 - val_loss: 0.5775 - val_acc: 0.7617\n",
      "Epoch 4/20\n",
      "13117/13117 [==============================] - 140s - loss: 0.4322 - acc: 0.8271 - val_loss: 0.5646 - val_acc: 0.7700\n",
      "Epoch 5/20\n",
      "13117/13117 [==============================] - 140s - loss: 0.4005 - acc: 0.8423 - val_loss: 0.5780 - val_acc: 0.7693\n",
      "Epoch 6/20\n",
      "13117/13117 [==============================] - 138s - loss: 0.3831 - acc: 0.8459 - val_loss: 0.5808 - val_acc: 0.7654\n",
      "Epoch 7/20\n",
      "13117/13117 [==============================] - 139s - loss: 0.3680 - acc: 0.8550 - val_loss: 0.6007 - val_acc: 0.7676\n",
      "Epoch 8/20\n",
      "13117/13117 [==============================] - 139s - loss: 0.3502 - acc: 0.8604 - val_loss: 0.6146 - val_acc: 0.7612\n",
      "Epoch 9/20\n",
      "13117/13117 [==============================] - 140s - loss: 0.3369 - acc: 0.8638 - val_loss: 0.6272 - val_acc: 0.7621\n",
      "Epoch 10/20\n",
      "13117/13117 [==============================] - 137s - loss: 0.3158 - acc: 0.8750 - val_loss: 0.6559 - val_acc: 0.7575\n",
      "Epoch 11/20\n",
      "13117/13117 [==============================] - 138s - loss: 0.3037 - acc: 0.8814 - val_loss: 0.6825 - val_acc: 0.7589\n",
      "Epoch 12/20\n",
      "13117/13117 [==============================] - 138s - loss: 0.2932 - acc: 0.8845 - val_loss: 0.7014 - val_acc: 0.7552\n",
      "Epoch 13/20\n",
      "13117/13117 [==============================] - 138s - loss: 0.2797 - acc: 0.8901 - val_loss: 0.7040 - val_acc: 0.7533\n",
      "Epoch 14/20\n",
      "13117/13117 [==============================] - 149s - loss: 0.2712 - acc: 0.8932 - val_loss: 0.7396 - val_acc: 0.7555\n",
      "Epoch 15/20\n",
      "13117/13117 [==============================] - 147s - loss: 0.2570 - acc: 0.8991 - val_loss: 0.7583 - val_acc: 0.7496\n",
      "Epoch 16/20\n",
      "13117/13117 [==============================] - 149s - loss: 0.2481 - acc: 0.9024 - val_loss: 0.7718 - val_acc: 0.7543\n",
      "Epoch 17/20\n",
      "13117/13117 [==============================] - 142s - loss: 0.2421 - acc: 0.9045 - val_loss: 0.7819 - val_acc: 0.7481\n",
      "Epoch 18/20\n",
      "13117/13117 [==============================] - 138s - loss: 0.2306 - acc: 0.9103 - val_loss: 0.8411 - val_acc: 0.7505\n",
      "Epoch 19/20\n",
      "13117/13117 [==============================] - 139s - loss: 0.2273 - acc: 0.9119 - val_loss: 0.8114 - val_acc: 0.7507\n",
      "Epoch 20/20\n",
      "13117/13117 [==============================] - 140s - loss: 0.2158 - acc: 0.9163 - val_loss: 0.8638 - val_acc: 0.7491\n"
     ]
    },
    {
     "data": {
      "text/plain": [
       "<keras.callbacks.History at 0x7f0f8b28a590>"
      ]
     },
     "execution_count": 5,
     "metadata": {},
     "output_type": "execute_result"
    }
   ],
   "source": [
    "BATCH_SIZE = 128\n",
    "LR = 0.001\n",
    "DC = 0.1\n",
    "EPOCH=20\n",
    "\n",
    "callbacks = [EarlyStopping(monitor=\"loss\", min_delta=0.001, patience=3),\n",
    "             LearningRateScheduler(lambda epoch: LR/(1 + DC*epoch))]\n",
    "model.fit(X_train, Y_train, epochs=EPOCH, batch_size=BATCH_SIZE,\n",
    "          validation_data=(X_test, Y_test),\n",
    "          callbacks=callbacks)"
   ]
  }
 ],
 "metadata": {
  "kernelspec": {
   "display_name": "Python 2",
   "language": "python",
   "name": "python2"
  },
  "language_info": {
   "codemirror_mode": {
    "name": "ipython",
    "version": 2
   },
   "file_extension": ".py",
   "mimetype": "text/x-python",
   "name": "python",
   "nbconvert_exporter": "python",
   "pygments_lexer": "ipython2",
   "version": "2.7.12"
  }
 },
 "nbformat": 4,
 "nbformat_minor": 2
}
